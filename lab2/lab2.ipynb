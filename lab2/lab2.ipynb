{
  "cells": [
    {
      "cell_type": "markdown",
      "metadata": {
        "id": "view-in-github",
        "colab_type": "text"
      },
      "source": [
        "<a href=\"https://colab.research.google.com/github/JasonAdamHD/BigDataCourse/blob/main/lab2/lab2.ipynb\" target=\"_parent\"><img src=\"https://colab.research.google.com/assets/colab-badge.svg\" alt=\"Open In Colab\"/></a>"
      ]
    },
    {
      "cell_type": "markdown",
      "metadata": {
        "id": "bRw3wXNOwqiv"
      },
      "source": [
        "<B>Preface</B><BR>\n",
        "Collaborative filtering is often used for recommendations including book recommendations (e.g. on Amazon), movie recommendations (e.g. Netflix), general product recommendation (e.g. if you buy skis and bindings, maybe you should buy poles too), and other kinds of recommendations.  This assignment is based on a nifty assignment on book recommendations.   (http://nifty.stanford.edu/2011/craig-book-recommendations/)\n",
        "\n",
        "> Virtually every student has had an online experience where a website makes personalized recommendations in hopes of future sales or ongoing traffic. Amazon.com tells you \"Customers Who Bought This Item Also Bought\", YouTube makes suggestions for other videos to watch, and NetFlix ran a contest with a million dollar prize for an algorithm that would improve their movie recommendations. In this assignment, students write a program that makes personalized book recommendations using algorithms with increasing levels of sophistication.\n",
        "\n",
        ">After reading a pre-collected set of ratings for a list of books, the program makes recommendations for a particular reader based on a small set of sample ratings from that reader and the preferences of other readers in the community. The assignment was inspired by machine learning research used to predict book preferences for Chapters.Indigo.ca. It provides the opportunity to discuss similarity measures for non-trivial objects and alludes to machine learning techniques.\n",
        "<P>\n",
        "\n",
        "<B>Part 1: Collecting User Rankings</B><BR>\n",
        "You will need to download two files. \n",
        " http://nifty.stanford.edu/2011/craig-book-recommendations/books.txt and http://nifty.stanford.edu/2011/craig-book-recommendations/ratings.txt and put them on your drive, ideally within the folder where you are storing your other files for this class.<BR>\n",
        " Now you are ready to add your first block of code.  This block of code should <ol><li>Mount your drive</li><li>Give instructions for rating books where -5 means 'I hated it' and 5 means 'I loved it' and 0 means 'I didn't read it'</li><li>iteratively display the book titles, prompt the user for a rating for that book, and store the user rating in a list.</li></ol> <BR> Your goal is a list of book ratings as integers in a list called myRatings.  YOU SHOULD PRINT THIS LIST AT THE END OF THIS BLOCK OF CODE, SO YOU DON't HAVE TO RE-ENTER RATINGS WHEN WORKING ON PART 2 and 3 (or doing your demo for me)!!  \n",
        " <p> \n",
        "\n",
        " \n",
        "\n"
      ]
    },
    {
      "cell_type": "code",
      "execution_count": null,
      "metadata": {
        "colab": {
          "base_uri": "https://localhost:8080/"
        },
        "id": "YrcowsgoejHX",
        "outputId": "5b0f816e-d574-47da-a909-ca3463a09552"
      },
      "outputs": [
        {
          "output_type": "stream",
          "name": "stdout",
          "text": [
            "The name of the most similar reader is: Brian.\n",
            "Books that Brian recommends: \n",
            "Douglas Adams,The Hitchhiker's Guide To The Galaxy\n",
            "Yann Martel,Life of Pi\n",
            "Philip Pullman,The Golden Compass\n",
            "J.K. Rowling,Harry Potter Series\n",
            "Art Spiegelman,Maus: A Survivor's Tale\n",
            "J R R Tolkien,The Lord of the Rings\n",
            "J R R Tolkien,The Hobbit\n",
            "John Wyndham,The Chrysalids\n",
            "Douglas Adams,The Hitchhiker's Guide To The Galaxy\n",
            "Dan Brown,The Da Vinci Code\n",
            "William Goldman,The Princess Bride\n",
            "Aldous Huxley,Brave New World\n",
            "Stephenie Meyer,Twilight Series\n",
            "Christopher Paolini,Eragon\n",
            "J.K. Rowling,Harry Potter Series\n",
            "J R R Tolkien,The Lord of the Rings\n",
            "J R R Tolkien,The Hobbit\n"
          ]
        }
      ],
      "source": [
        "from google.colab import drive\n",
        "\n",
        "def dotProduct(myRating, otherRating):\n",
        "  return sum(list(map(lambda x, y: x * y, myRating, otherRating)))\n",
        "\n",
        "def getUserRating() -> list:\n",
        "  myRatings = [0, 0, 0, 0, 0, 0, 0, 0, 0, 0, 0, 0, 0, 0, 4, 0, 0, 0, 3, 0, 0, 0, 0, 0, 0, 5, 0, 0, 3, 0, 2, 1, 0, 0, 0, 0, 0, 4, 0, 5, 0, 0, 0, 5, 4, 0, 0, 0, 0, 0, 0, 0, 0, 0, 0]\n",
        "  if len(myRatings) == 0:\n",
        "    f=open(\"/content/gdrive/My Drive/Colab Notebooks/Lab 2/books.txt\")\n",
        "    for line in f:\n",
        "      print(line, end='')\n",
        "      myRatings.append(int(input(\"Rate the book -5 to 5 (0 meaning you did not read it): \")))\n",
        "    print(myRatings)\n",
        "    f.close()\n",
        "  return myRatings\n",
        "\n",
        "def getClosestPerson(myRatings: list):\n",
        "  f=open(\"/content/gdrive/My Drive/Colab Notebooks/Lab 2/ratings.txt\")\n",
        "  count = 0\n",
        "  name = \"\"\n",
        "  otherRating = []\n",
        "  dotProd = (0, \"None\")\n",
        "  for line in f:\n",
        "    if count%2 == 0:\n",
        "      name = line.rstrip('\\n')\n",
        "    else:\n",
        "      newLine = line.rstrip('\\n').split(' ')\n",
        "      del newLine[-1]\n",
        "      otherRating = list(map(int, newLine))\n",
        "      newDotProd = dotProduct(myRatings, otherRating)\n",
        "      if newDotProd > dotProd[0]:\n",
        "        dotProd = (newDotProd, name)\n",
        "    count += 1\n",
        "  f.close()\n",
        "  return dotProd[1]\n",
        "\n",
        "def getRecommendedBooks(name: str, myRatings):\n",
        "  f=open(\"/content/gdrive/My Drive/Colab Notebooks/Lab 2/ratings.txt\")\n",
        "  count = 0\n",
        "  for line in f:\n",
        "    if count%2 == 0:\n",
        "      user = line.rstrip('\\n')\n",
        "    else:\n",
        "      newLine = line.rstrip('\\n').split(' ')\n",
        "      del newLine[-1]\n",
        "      otherRating = list(map(int, newLine))\n",
        "\n",
        "    if user == name:\n",
        "        f2=open(\"/content/gdrive/My Drive/Colab Notebooks/Lab 2/books.txt\")\n",
        "        for index, line2 in enumerate(f2, 0):\n",
        "          if otherRating[index] > 0 and myRatings[index] == 0:\n",
        "            print(line2, end='')\n",
        "    count += 1\n",
        "  f.close()\n",
        "  return \n",
        "\n",
        "def main():\n",
        "  myRatings = getUserRating()\n",
        "  closestPerson = getClosestPerson(myRatings)\n",
        "  print(f\"The name of the most similar reader is: {closestPerson}.\")\n",
        "  print(f\"Books that {closestPerson} recommends: \")\n",
        "  getRecommendedBooks(closestPerson, myRatings)\n",
        "\n",
        "if __name__ == '__main__':\n",
        "  main()"
      ]
    },
    {
      "cell_type": "markdown",
      "metadata": {
        "id": "c-MpYoCZ72mM"
      },
      "source": [
        " <B>Part 2: Finding the Most Similar Reader</B><BR>\n",
        "We will define the most similar reader as the reader whose ratings vector has the highest dotproduct with the myratings vector.  You may copy/reuse your dotproduct function from lab1.  You must print \"The name of the most similar reader is: \" along with the reader's name and any books for that reader where myRating of that book is 0 and the reader's ranking of the book is positive. "
      ]
    },
    {
      "cell_type": "markdown",
      "metadata": {
        "id": "ocQW7qtm8J6Y"
      },
      "source": [
        " <B>Part 3: Improving Data Collection</B><BR>\n",
        "This assignment leverages a dataset on teen book interests.  How could you improve the data collection to make it easier and more general?  Please write a 1 paragraph answer.  If you wish, you may spend some of your discretionary time on implementation..."
      ]
    },
    {
      "cell_type": "markdown",
      "metadata": {
        "id": "09lwzvpmF6Fx"
      },
      "source": [
        "One way of improving the data collection would be to first survey people and ask them which genres of books they frequently read. Another way to make data collection more general would be to survey the users age and show them books similar in genre and age of the reader so that they are shown books that they have likely read. Showing books that the user has likely read, in a large survey such as our example in lab, will likely increases the overall non-zero ratings that a user gives meaning that we can more accurately predict which users are similar to other users. If you were running a book store, every time one customer was about to purchase a new book, you could ask the customer their rating on the previous book that they had purchased and possibly reward them in some way for that rating. This would likely lead to an increase in ratings because more people being asked more frequently about their ratings on a book would add to the dataset."
      ]
    }
  ],
  "metadata": {
    "colab": {
      "provenance": [],
      "include_colab_link": true
    },
    "kernelspec": {
      "display_name": "Python 3",
      "name": "python3"
    }
  },
  "nbformat": 4,
  "nbformat_minor": 0
}