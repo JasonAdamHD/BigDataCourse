{
  "nbformat": 4,
  "nbformat_minor": 0,
  "metadata": {
    "colab": {
      "provenance": [],
      "include_colab_link": true
    },
    "kernelspec": {
      "name": "python3",
      "display_name": "Python 3"
    }
  },
  "cells": [
    {
      "cell_type": "markdown",
      "metadata": {
        "id": "view-in-github",
        "colab_type": "text"
      },
      "source": [
        "<a href=\"https://colab.research.google.com/github/JasonAdamHD/BigDataCourse/blob/main/lab1/lab1.ipynb\" target=\"_parent\"><img src=\"https://colab.research.google.com/assets/colab-badge.svg\" alt=\"Open In Colab\"/></a>"
      ]
    },
    {
      "cell_type": "markdown",
      "metadata": {
        "id": "Wwu8BHDsYU-I"
      },
      "source": [
        "<B> Preface </B><BR>\n",
        "Welcome to Data Science!\n",
        "\n",
        "In science, replication is important. Notebooks are records that scientists keep, so that they can replicate their experiments. Traditionally, scientific notebooks held both methodology/procedural notes, as well as data notes. The methodology notes showed how to do a procedure on the data. The data showed the results that the scientist obtained by doing the procedure. \n",
        "<P>\n",
        "Data scientists also often keep notebooks with their work, but data scientists typically use digital data and Jupyter notebooks. Jupyter notebooks are a way to combine English text and code in a single file. The English text can communicate to a human being what the purpose of the experiment is while the code can communicate to a machine how to analyze the data in a specific way. Jupyter notebooks require that the programming language supports Read-Eval-Print-Loops(REPL). Initially, Jupyter notebooks were most popularly implemented in Python, which partially explains the spelling of Jupyter. Sometimes, they are stored with an ipynb file extension which probably stands for Interactive PYthon NoteBook. \n",
        "<P>\n",
        "In this class, we will store our work in Jupyter notebooks that use Python; specifically, we will use Google colab Jupyter notebooks, and you will need to share the notebooks with anyone who has a link and submit a link for each assignment on Canvas.\n",
        "<P>\n",
        "Data scientists often use Jupyter notebooks and Python code to share their work.  In this lab, you will practice writing Python functions or methods and using a Jupyter notebook.  You will submit the URL for your notebook in Canvas.  For each problem, you should write a function and write at least 1 test case, the test case given.  You can create additional blocks of code for additional test cases if you wish. When the problem specifies a sequence of something, most of the time a list will be the most appropriate data structure, but you may use another data structure if you wish, if you can justify it(please put justifications in a text block beneath your code).  You should leverage the functional programming paradigm and map, reduce, and filter as much as possible.  You may reuse these functions on later assignments."
      ]
    },
    {
      "cell_type": "markdown",
      "source": [
        "<B>Problem 0: Sum of Two Numbers</B><BR>\n",
        "Write a function that takes as input two numbers then computes their sum, e.g. 6 and 7 as input have a sum of 13."
      ],
      "metadata": {
        "id": "4KeRQIgD6Wex"
      }
    },
    {
      "cell_type": "code",
      "source": [
        "# A demo function to demonstrate the sum of two numbers.\n",
        "def sumNums(a,b):\n",
        "  return a+b\n",
        "sumNums(6,7)"
      ],
      "metadata": {
        "colab": {
          "base_uri": "https://localhost:8080/"
        },
        "id": "-rkmrk7t61c7",
        "outputId": "20fa915c-2173-49ae-9e47-71b50fff8b16"
      },
      "execution_count": null,
      "outputs": [
        {
          "output_type": "execute_result",
          "data": {
            "text/plain": [
              "13"
            ]
          },
          "metadata": {},
          "execution_count": 91
        }
      ]
    },
    {
      "cell_type": "markdown",
      "metadata": {
        "id": "1nsXnUD9SUZg"
      },
      "source": [
        "<B>Problem 1: Hypoteneuse of a Triangle</B><BR>\n",
        "Write a function that takes as input the base and height of a right triangle and then computes the hypoteneuse as output, e.g. 3 and 4 as legs have a hypoteneuse as 5.\n"
      ]
    },
    {
      "cell_type": "code",
      "metadata": {
        "id": "vGpLTCuXSltL",
        "colab": {
          "base_uri": "https://localhost:8080/"
        },
        "outputId": "b7edd04b-5ace-45ef-bf20-567521d9e81d"
      },
      "source": [
        "#A function to calculate the hypoteneuse.  You do not need to use map, reduce, or filter for this problem; this problem is meant as a warmup.\n",
        "from math import sqrt\n",
        "def hypoteneuse(a, b):\n",
        "  hyp = a**2 + b**2\n",
        "  return sqrt(hyp)\n",
        "hypoteneuse(3, 4)"
      ],
      "execution_count": null,
      "outputs": [
        {
          "output_type": "execute_result",
          "data": {
            "text/plain": [
              "5.0"
            ]
          },
          "metadata": {},
          "execution_count": 92
        }
      ]
    },
    {
      "cell_type": "markdown",
      "metadata": {
        "id": "N09IgGWPSmN1"
      },
      "source": [
        "<B>Problem 2: Dot Product</B><BR>\n",
        "Write a function that takes as input two sequences of numbers and then computes their dot product, e.g. [1,2,3], [1,2,3] produces 14. \n"
      ]
    },
    {
      "cell_type": "code",
      "metadata": {
        "id": "t31VWV7jTDil",
        "colab": {
          "base_uri": "https://localhost:8080/"
        },
        "outputId": "c54eb4de-414a-4efe-a3df-c47ceb22ec9e"
      },
      "source": [
        "def dotProduct(l1, l2):\n",
        "  return sum(list(map(lambda x, y: x * y, l1, l2)))\n",
        "\n",
        "dotProduct([1,2,3],[1,2,3])"
      ],
      "execution_count": null,
      "outputs": [
        {
          "output_type": "execute_result",
          "data": {
            "text/plain": [
              "14"
            ]
          },
          "metadata": {},
          "execution_count": 93
        }
      ]
    },
    {
      "cell_type": "markdown",
      "metadata": {
        "id": "dJUK5yBGTD1p"
      },
      "source": [
        "<B>Problem 3: Double Sequence</B><BR>\n",
        "Write a function that takes as input a sequence of numbers and then computes that sequence doubled, e.g. [1,2,3] produces [2,4,6]. "
      ]
    },
    {
      "cell_type": "code",
      "metadata": {
        "id": "0Ol9NoyYTTrs",
        "colab": {
          "base_uri": "https://localhost:8080/"
        },
        "outputId": "fb144536-385e-4e78-97a1-c0b5ace31f8e"
      },
      "source": [
        "def doubleSequence(li):\n",
        "  return(list(map(lambda x:x*2, li)))\n",
        "doubleSequence([1,2,3])"
      ],
      "execution_count": null,
      "outputs": [
        {
          "output_type": "execute_result",
          "data": {
            "text/plain": [
              "[2, 4, 6]"
            ]
          },
          "metadata": {},
          "execution_count": 94
        }
      ]
    },
    {
      "cell_type": "markdown",
      "metadata": {
        "id": "81DCKvWRTUN6"
      },
      "source": [
        "<B>Problem 4: Remove Duplicates</B><BR>\n",
        "Write a function that takes as input a sequence of variables and then computes a sequence with any duplicates in the original sequence removed, e.g. [1,1,2,1,3] produces [1,2,3].\n"
      ]
    },
    {
      "cell_type": "code",
      "metadata": {
        "id": "qQn7VehHUb0j",
        "colab": {
          "base_uri": "https://localhost:8080/"
        },
        "outputId": "0d9df453-5a9c-45c2-a357-9db4a3d04aa9"
      },
      "source": [
        "from functools import reduce\n",
        "def removeDupes(li):\n",
        "  return list(reduce((lambda lst, num: lst if num in lst else lst + [num]), li, []))\n",
        "removeDupes([1,1,2,1,3])"
      ],
      "execution_count": null,
      "outputs": [
        {
          "output_type": "execute_result",
          "data": {
            "text/plain": [
              "[1, 2, 3]"
            ]
          },
          "metadata": {},
          "execution_count": 95
        }
      ]
    },
    {
      "cell_type": "markdown",
      "metadata": {
        "id": "TQeKGK6wUcTv"
      },
      "source": [
        "<B>Problem 5: Translation</B><BR>\n",
        "Write a function that takes as input a string (such as \"two one three five four\")  and then returns that sequence of words translated into a language of your choice- you must have at least 5 unique words, and the user must be able to use them in any order and in a string with up to 10 words.  You may use Google translate if you do not know another human langauge besides English.\n"
      ]
    },
    {
      "cell_type": "code",
      "metadata": {
        "id": "POBtvreWU6tE",
        "colab": {
          "base_uri": "https://localhost:8080/"
        },
        "outputId": "cd6fabe6-ae40-4da9-d744-9b0e147aefa8"
      },
      "source": [
        "def convert(string):\n",
        "  spanish = {\"zero\": \"cero\",\n",
        "             \"one\": \"uno\", \n",
        "             \"two\": \"dos\",\n",
        "             \"three\": \"tres\",\n",
        "             \"four\": \"cuatro\",\n",
        "             \"five\": \"cinco\",\n",
        "             \"six\": \"seis\",\n",
        "             \"seven\": \"siete\",\n",
        "             \"eight\": \"ocho\",\n",
        "             \"nine\": \"nueve\",\n",
        "             \"ten\": \"diez\"}\n",
        "  return spanish[string]\n",
        "\n",
        "def translate(string):\n",
        "  lst = string.split(\" \")\n",
        "  return list(map(lambda x: convert(x), lst))\n",
        "translate(\"two one three five four nine seven ten six eight zero\")"
      ],
      "execution_count": null,
      "outputs": [
        {
          "output_type": "execute_result",
          "data": {
            "text/plain": [
              "['dos',\n",
              " 'uno',\n",
              " 'tres',\n",
              " 'cinco',\n",
              " 'cuatro',\n",
              " 'nueve',\n",
              " 'siete',\n",
              " 'diez',\n",
              " 'seis',\n",
              " 'ocho',\n",
              " 'cero']"
            ]
          },
          "metadata": {},
          "execution_count": 96
        }
      ]
    },
    {
      "cell_type": "markdown",
      "metadata": {
        "id": "ViMK5OvWU7CS"
      },
      "source": [
        "<B>Problem 6: Count Articles</B><BR>\n",
        "Write a function that takes as input a string and then produces as output a count of the words that are articles(a, an, the), e.g. \"The bug is on a log in an orchard.\" returns 3. "
      ]
    },
    {
      "cell_type": "code",
      "metadata": {
        "id": "YNEamGhaVRAm",
        "colab": {
          "base_uri": "https://localhost:8080/"
        },
        "outputId": "d283db56-046d-49e2-ba18-7a3fbaf28af6"
      },
      "source": [
        "def numArticles(string):\n",
        "  lst = string.lower().split(\" \")\n",
        "  articles = [\"a\", \"an\", \"the\"]\n",
        "  return len(list(filter(lambda word: word if word in articles else None, lst)))\n",
        "numArticles(\"The bug is on a log in an orchard.\")"
      ],
      "execution_count": null,
      "outputs": [
        {
          "output_type": "execute_result",
          "data": {
            "text/plain": [
              "3"
            ]
          },
          "metadata": {},
          "execution_count": 97
        }
      ]
    },
    {
      "cell_type": "markdown",
      "metadata": {
        "id": "kenhTAY4VRQh"
      },
      "source": [
        "<B>Problem 7: List of Colors</B><BR>\n",
        "Write a function that takes as input a sequence of words and then produces as output a list of words that are colors.  You  may assume that a color will not appear more than once in the input.  You must be able to recognize black, brown, blue, red, yellow, orange, purple, green, gray, and pink. e.g. \"The red fox jumped over the brown log and into the blue sky\" produces red, brown, blue."
      ]
    },
    {
      "cell_type": "code",
      "metadata": {
        "id": "WySv1O-sWSpk",
        "colab": {
          "base_uri": "https://localhost:8080/"
        },
        "outputId": "39fcaaf2-30fd-4a81-91e5-11e00fb35b84"
      },
      "source": [
        "def listColors(string):\n",
        "  lst = string.lower().split(\" \")\n",
        "  colors = [\"black\", \"brown\", \"blue\", \"red\", \"yellow\", \"orange\", \"purple\", \"green\", \"gray\", \"pink\"]\n",
        "  return list(filter(lambda word: word if word in colors else None, lst))\n",
        "listColors(\"The red fox jumped over the brown log and into the blue sky\")"
      ],
      "execution_count": null,
      "outputs": [
        {
          "output_type": "execute_result",
          "data": {
            "text/plain": [
              "['red', 'brown', 'blue']"
            ]
          },
          "metadata": {},
          "execution_count": 98
        }
      ]
    },
    {
      "cell_type": "markdown",
      "metadata": {
        "id": "G1uTn99yWS7W"
      },
      "source": [
        "<B>Problem 8: List of Positives</B><BR>\n",
        "Write a function that takes as input a sequence of numbers and then produces as output a list of numbers that are positive, e.g. [1,-2,-3,4,5,-6,7,0,2] produces [1,4,5,7,2]"
      ]
    },
    {
      "cell_type": "code",
      "metadata": {
        "id": "ykc6z80IXXf1",
        "colab": {
          "base_uri": "https://localhost:8080/"
        },
        "outputId": "16abfbf0-9ef9-48ad-95f1-49667b6a60e2"
      },
      "source": [
        "def positiveNumbers(li):\n",
        "  return list(filter(lambda x: x > 0, li))\n",
        "positiveNumbers([1,-2,-3,4,5,-6,7,0,2])"
      ],
      "execution_count": null,
      "outputs": [
        {
          "output_type": "execute_result",
          "data": {
            "text/plain": [
              "[1, 4, 5, 7, 2]"
            ]
          },
          "metadata": {},
          "execution_count": 99
        }
      ]
    },
    {
      "cell_type": "markdown",
      "metadata": {
        "id": "_aCdHKR7XX-U"
      },
      "source": [
        "<B>Problem 9: First n Squares</B><BR>\n",
        "Write a function that takes as input an integer  n and returns a sequence of the first n square numbers, e.g. 5 produces 1,4,9,16,25.\n"
      ]
    },
    {
      "cell_type": "code",
      "metadata": {
        "id": "0cZbXjDLX54G",
        "colab": {
          "base_uri": "https://localhost:8080/"
        },
        "outputId": "12575885-95a7-4676-ff0d-82af5f985cdc"
      },
      "source": [
        "def firstNSquares(num):\n",
        "  return list(map(lambda x: x**2, list(range(1, num+1))))\n",
        "firstNSquares(5)"
      ],
      "execution_count": null,
      "outputs": [
        {
          "output_type": "execute_result",
          "data": {
            "text/plain": [
              "[1, 4, 9, 16, 25]"
            ]
          },
          "metadata": {},
          "execution_count": 100
        }
      ]
    },
    {
      "cell_type": "markdown",
      "metadata": {
        "id": "4MFGOuxcX6Qv"
      },
      "source": [
        "<B>Problem 10: Sum or Product Passed as a Procedure</B><BR>\n",
        "Write a function that takes as input a sequence of numbers and a procedure. Then apply the procedure to the list of numbers.  At a minimum, you must be able to find the sum of the list of numbers and the product of the list of numbers.   \n",
        "\n",
        "<B>CLARIFICATION::</B><BR>\n",
        "I am asking you to pass a procedure similar to how it is done here:\n",
        "\n",
        "https://www.geeksforgeeks.org/passing-function-as-an-argument-in-python/\n",
        "\n",
        " with func being passed as an argument/parameter to greet and func can be either shout or whisper. \n",
        "\n",
        "In the case of problem 10, you need to be able to pass something like add or multiply(which you may or may not need to define) as a parameter in the same way that shout or whisper can be passed as a parameter. "
      ]
    },
    {
      "cell_type": "code",
      "metadata": {
        "id": "58i5O9dgYTvL",
        "colab": {
          "base_uri": "https://localhost:8080/"
        },
        "outputId": "b135abdb-b12b-4e6b-96f1-38972ccbf769"
      },
      "source": [
        "def product(li):\n",
        "  return reduce((lambda x, y: x * y), li)\n",
        "\n",
        "def sum(li):\n",
        "  return reduce((lambda x, y: x + y), li)\n",
        "\n",
        "def procedurePass(li, procedure):\n",
        "  return procedure(li)\n",
        "\n",
        "print(procedurePass([1,2,3,4,5], product))\n",
        "print(procedurePass([1,2,3,4,5], sum))"
      ],
      "execution_count": null,
      "outputs": [
        {
          "output_type": "stream",
          "name": "stdout",
          "text": [
            "120\n",
            "15\n"
          ]
        }
      ]
    }
  ]
}